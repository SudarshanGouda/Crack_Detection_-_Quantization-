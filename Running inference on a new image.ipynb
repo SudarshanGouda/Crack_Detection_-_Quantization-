{
 "cells": [
  {
   "cell_type": "code",
   "execution_count": 4,
   "id": "7a45e690",
   "metadata": {},
   "outputs": [],
   "source": [
    "import cv2\n",
    "import tensorflow as tf\n",
    "\n",
    "CATEGORIES=['Negative','Positive'] #0=Neg 1=Pos\n",
    "\n",
    "def prepare(filepath):\n",
    "    IMG_SIZE = 200  # 50 in txt-based\n",
    "    img_array = cv2.imread(filepath, cv2.IMREAD_GRAYSCALE)  # read in the image, convert to grayscale\n",
    "    new_array = cv2.resize(img_array, (IMG_SIZE, IMG_SIZE))  # resize image to match model's expected sizing\n",
    "    return new_array.reshape(-1, IMG_SIZE, IMG_SIZE, 1)  # return the image with shaping that TF wants.\n",
    "\n",
    "model = tf.keras.models.load_model(\"Crack_Detection_CNN.model\")"
   ]
  },
  {
   "cell_type": "code",
   "execution_count": 7,
   "id": "6d369e3a",
   "metadata": {},
   "outputs": [],
   "source": [
    "prediction = model.predict([prepare('Negetive.jpg')])"
   ]
  },
  {
   "cell_type": "code",
   "execution_count": 8,
   "id": "90492cdf",
   "metadata": {},
   "outputs": [
    {
     "data": {
      "text/plain": [
       "array([[0.]], dtype=float32)"
      ]
     },
     "execution_count": 8,
     "metadata": {},
     "output_type": "execute_result"
    }
   ],
   "source": [
    "prediction"
   ]
  }
 ],
 "metadata": {
  "kernelspec": {
   "display_name": "Python 3 (ipykernel)",
   "language": "python",
   "name": "python3"
  },
  "language_info": {
   "codemirror_mode": {
    "name": "ipython",
    "version": 3
   },
   "file_extension": ".py",
   "mimetype": "text/x-python",
   "name": "python",
   "nbconvert_exporter": "python",
   "pygments_lexer": "ipython3",
   "version": "3.9.7"
  }
 },
 "nbformat": 4,
 "nbformat_minor": 5
}
