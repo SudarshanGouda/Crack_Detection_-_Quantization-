{
 "cells": [
  {
   "cell_type": "code",
   "execution_count": 9,
   "id": "343848d1",
   "metadata": {},
   "outputs": [],
   "source": [
    "from sklearn.model_selection import  train_test_split\n",
    "from tensorflow.keras.utils import to_categorical\n",
    "import tensorflow as tf\n",
    "from tensorflow.keras.models import Sequential\n",
    "from tensorflow.keras.layers import Dense, Flatten,Activation, Dropout, Conv2D, MaxPooling2D,MaxPool2D\n",
    "from tensorflow.keras.callbacks import EarlyStopping\n",
    "import pickle\n",
    "from tensorflow.keras.callbacks import TensorBoard\n",
    "import numpy as np\n",
    "import pandas as pd"
   ]
  },
  {
   "cell_type": "code",
   "execution_count": 2,
   "id": "cb8857e1",
   "metadata": {},
   "outputs": [],
   "source": [
    "pickle_in = open(\"X.pickle\",\"rb\")\n",
    "X = pickle.load(pickle_in)\n",
    "\n",
    "pickle_in = open(\"y.pickle\",\"rb\")\n",
    "y = pickle.load(pickle_in)\n",
    "\n",
    "X = X/255.0"
   ]
  },
  {
   "cell_type": "code",
   "execution_count": 3,
   "id": "fa836c8e",
   "metadata": {},
   "outputs": [],
   "source": [
    "y=np.array(y)"
   ]
  },
  {
   "cell_type": "code",
   "execution_count": 4,
   "id": "454c1af2",
   "metadata": {},
   "outputs": [],
   "source": [
    "X_train, X_test, y_train, y_test = train_test_split(X, y , test_size = 0.2, random_state = 42)"
   ]
  },
  {
   "cell_type": "code",
   "execution_count": 5,
   "id": "499c05cd",
   "metadata": {},
   "outputs": [],
   "source": [
    "Input = tf.keras.Input(shape=(200, 200,1))\n",
    "\n",
    "x= tf.keras.layers.Conv2D(filters=16,kernel_size=(3,3),activation='relu')(Input)\n",
    "x=tf.keras.layers.MaxPool2D(pool_size=(2,2))(x)\n",
    "x= tf.keras.layers.Conv2D(filters=32,kernel_size=(3,3),activation='relu')(x)\n",
    "x= tf.keras.layers.MaxPool2D(pool_size=(2,2))(x)\n",
    "x=tf.keras.layers.GlobalAveragePooling2D()(x)\n",
    "Output=tf.keras.layers.Dense(1, activation='sigmoid')(x)\n",
    "\n",
    "model=tf.keras.Model(inputs=Input,outputs=Output)\n",
    "\n",
    "model.compile(optimizer='adam',loss='binary_crossentropy',metrics=['accuracy'])"
   ]
  },
  {
   "cell_type": "code",
   "execution_count": 6,
   "id": "5af4e79d",
   "metadata": {},
   "outputs": [],
   "source": [
    "erly = EarlyStopping(monitor='val_loss',\n",
    "                     restore_best_weights=True ,\n",
    "                     verbose=0, patience=3)"
   ]
  },
  {
   "cell_type": "code",
   "execution_count": 12,
   "id": "ae9a9915",
   "metadata": {
    "scrolled": false
   },
   "outputs": [
    {
     "name": "stdout",
     "output_type": "stream",
     "text": [
      "Epoch 1/50\n",
      "32/32 [==============================] - 181s 5s/step - loss: 0.4674 - accuracy: 0.8645 - val_loss: 0.4298 - val_accuracy: 0.8581\n",
      "Epoch 2/50\n",
      "32/32 [==============================] - 130s 4s/step - loss: 0.4396 - accuracy: 0.8733 - val_loss: 0.3979 - val_accuracy: 0.8856\n",
      "Epoch 3/50\n",
      "32/32 [==============================] - 132s 4s/step - loss: 0.4136 - accuracy: 0.8808 - val_loss: 0.3830 - val_accuracy: 0.8500\n",
      "Epoch 4/50\n",
      "32/32 [==============================] - 129s 4s/step - loss: 0.3877 - accuracy: 0.8963 - val_loss: 0.3485 - val_accuracy: 0.8875\n",
      "Epoch 5/50\n",
      "32/32 [==============================] - 130s 4s/step - loss: 0.3645 - accuracy: 0.8995 - val_loss: 0.3325 - val_accuracy: 0.8913\n",
      "Epoch 6/50\n",
      "32/32 [==============================] - 130s 4s/step - loss: 0.3457 - accuracy: 0.9091 - val_loss: 0.3018 - val_accuracy: 0.8975\n",
      "Epoch 7/50\n",
      "32/32 [==============================] - 129s 4s/step - loss: 0.3270 - accuracy: 0.9106 - val_loss: 0.2908 - val_accuracy: 0.9069\n",
      "Epoch 8/50\n",
      "32/32 [==============================] - 130s 4s/step - loss: 0.3138 - accuracy: 0.9158 - val_loss: 0.2771 - val_accuracy: 0.9038\n",
      "Epoch 9/50\n",
      "32/32 [==============================] - 128s 4s/step - loss: 0.2986 - accuracy: 0.9180 - val_loss: 0.2516 - val_accuracy: 0.9262\n",
      "Epoch 10/50\n",
      "32/32 [==============================] - 128s 4s/step - loss: 0.2933 - accuracy: 0.9230 - val_loss: 0.2475 - val_accuracy: 0.9231\n",
      "Epoch 11/50\n",
      "32/32 [==============================] - 128s 4s/step - loss: 0.2814 - accuracy: 0.9252 - val_loss: 0.2357 - val_accuracy: 0.9181\n",
      "Epoch 12/50\n",
      "32/32 [==============================] - 129s 4s/step - loss: 0.2717 - accuracy: 0.9256 - val_loss: 0.2233 - val_accuracy: 0.9325\n",
      "Epoch 13/50\n",
      "32/32 [==============================] - 127s 4s/step - loss: 0.2653 - accuracy: 0.9297 - val_loss: 0.2195 - val_accuracy: 0.9250\n",
      "Epoch 14/50\n",
      "32/32 [==============================] - 128s 4s/step - loss: 0.2603 - accuracy: 0.9287 - val_loss: 0.2124 - val_accuracy: 0.9337\n",
      "Epoch 15/50\n",
      "32/32 [==============================] - 128s 4s/step - loss: 0.2539 - accuracy: 0.9325 - val_loss: 0.2043 - val_accuracy: 0.9381\n",
      "Epoch 16/50\n",
      "32/32 [==============================] - 127s 4s/step - loss: 0.2513 - accuracy: 0.9337 - val_loss: 0.1971 - val_accuracy: 0.9450\n",
      "Epoch 17/50\n",
      "32/32 [==============================] - 128s 4s/step - loss: 0.2462 - accuracy: 0.9359 - val_loss: 0.2052 - val_accuracy: 0.9319\n",
      "Epoch 18/50\n",
      "32/32 [==============================] - 127s 4s/step - loss: 0.2432 - accuracy: 0.9377 - val_loss: 0.1947 - val_accuracy: 0.9325\n",
      "Epoch 19/50\n",
      "32/32 [==============================] - 128s 4s/step - loss: 0.2393 - accuracy: 0.9348 - val_loss: 0.1865 - val_accuracy: 0.9425\n",
      "Epoch 20/50\n",
      "32/32 [==============================] - 128s 4s/step - loss: 0.2381 - accuracy: 0.9375 - val_loss: 0.1783 - val_accuracy: 0.9513\n",
      "Epoch 21/50\n",
      "32/32 [==============================] - 127s 4s/step - loss: 0.2387 - accuracy: 0.9384 - val_loss: 0.1770 - val_accuracy: 0.9431\n",
      "Epoch 22/50\n",
      "32/32 [==============================] - 127s 4s/step - loss: 0.2315 - accuracy: 0.9373 - val_loss: 0.1828 - val_accuracy: 0.9431\n",
      "Epoch 23/50\n",
      "32/32 [==============================] - 128s 4s/step - loss: 0.2296 - accuracy: 0.9419 - val_loss: 0.1711 - val_accuracy: 0.9463\n",
      "Epoch 24/50\n",
      "32/32 [==============================] - 129s 4s/step - loss: 0.2290 - accuracy: 0.9411 - val_loss: 0.1789 - val_accuracy: 0.9469\n",
      "Epoch 25/50\n",
      "32/32 [==============================] - 130s 4s/step - loss: 0.2277 - accuracy: 0.9436 - val_loss: 0.1777 - val_accuracy: 0.9400\n",
      "Epoch 26/50\n",
      "32/32 [==============================] - 128s 4s/step - loss: 0.2238 - accuracy: 0.9423 - val_loss: 0.1624 - val_accuracy: 0.9475\n",
      "Epoch 27/50\n",
      "32/32 [==============================] - 128s 4s/step - loss: 0.2203 - accuracy: 0.9439 - val_loss: 0.1634 - val_accuracy: 0.9494\n",
      "Epoch 28/50\n",
      "32/32 [==============================] - 128s 4s/step - loss: 0.2179 - accuracy: 0.9452 - val_loss: 0.1739 - val_accuracy: 0.9413\n",
      "Epoch 29/50\n",
      "32/32 [==============================] - 129s 4s/step - loss: 0.2211 - accuracy: 0.9452 - val_loss: 0.1789 - val_accuracy: 0.9344\n"
     ]
    },
    {
     "data": {
      "text/plain": [
       "<keras.callbacks.History at 0x12d53f401f0>"
      ]
     },
     "execution_count": 12,
     "metadata": {},
     "output_type": "execute_result"
    }
   ],
   "source": [
    "model.fit( x=X_train,\n",
    "    y=y_train,\n",
    "    batch_size=200,\n",
    "    epochs=50,\n",
    "    verbose=True,validation_data=(X_test,y_test),callbacks=[erly])"
   ]
  },
  {
   "cell_type": "code",
   "execution_count": 13,
   "id": "32ae143d",
   "metadata": {},
   "outputs": [],
   "source": [
    "loss= pd.DataFrame(model.history.history)"
   ]
  },
  {
   "cell_type": "code",
   "execution_count": 14,
   "id": "7d47196d",
   "metadata": {},
   "outputs": [
    {
     "data": {
      "text/plain": [
       "<AxesSubplot:>"
      ]
     },
     "execution_count": 14,
     "metadata": {},
     "output_type": "execute_result"
    },
    {
     "data": {
      "image/png": "[encoded data removed]",
      "text/plain": [
       "<Figure size 432x288 with 1 Axes>"
      ]
     },
     "metadata": {
      "needs_background": "light"
     },
     "output_type": "display_data"
    }
   ],
   "source": [
    "loss[['accuracy','val_accuracy']].plot()"
   ]
  },
  {
   "cell_type": "code",
   "execution_count": 15,
   "id": "59d6cc69",
   "metadata": {},
   "outputs": [
    {
     "name": "stdout",
     "output_type": "stream",
     "text": [
      "INFO:tensorflow:Assets written to: Crack_Detection_CNN.model\\assets\n"
     ]
    }
   ],
   "source": [
    "model.save('Crack_Detection_CNN.model')"
   ]
  }
 ],
 "metadata": {
  "kernelspec": {
   "display_name": "Python 3 (ipykernel)",
   "language": "python",
   "name": "python3"
  },
  "language_info": {
   "codemirror_mode": {
    "name": "ipython",
    "version": 3
   },
   "file_extension": ".py",
   "mimetype": "text/x-python",
   "name": "python",
   "nbconvert_exporter": "python",
   "pygments_lexer": "ipython3",
   "version": "3.9.7"
  }
 },
 "nbformat": 4,
 "nbformat_minor": 5
}
