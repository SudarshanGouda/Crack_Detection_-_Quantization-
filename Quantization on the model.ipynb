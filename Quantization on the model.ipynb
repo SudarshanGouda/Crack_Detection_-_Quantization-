{
 "cells": [
  {
   "cell_type": "code",
   "execution_count": 16,
   "id": "793e8a81",
   "metadata": {},
   "outputs": [],
   "source": [
    "import tensorflow as tf\n",
    "from sklearn.model_selection import  train_test_split\n",
    "import pickle\n",
    "import numpy as np\n",
    "import pandas as pd"
   ]
  },
  {
   "cell_type": "code",
   "execution_count": 3,
   "id": "d8736315",
   "metadata": {},
   "outputs": [],
   "source": [
    "pickle_in = open(\"X.pickle\",\"rb\")\n",
    "X = pickle.load(pickle_in)\n",
    "\n",
    "pickle_in = open(\"y.pickle\",\"rb\")\n",
    "y = pickle.load(pickle_in)\n",
    "\n",
    "X = X/255.0\n",
    "\n",
    "y=np.array(y)"
   ]
  },
  {
   "cell_type": "code",
   "execution_count": 4,
   "id": "3944ac58",
   "metadata": {
    "scrolled": true
   },
   "outputs": [],
   "source": [
    "X_train, X_test, y_train, y_test = train_test_split(X, y , test_size = 0.2, random_state = 42)"
   ]
  },
  {
   "cell_type": "code",
   "execution_count": 5,
   "id": "40987f20",
   "metadata": {},
   "outputs": [],
   "source": [
    "def representative_dataset():\n",
    "      for data in tf.data.Dataset.from_tensor_slices((X)).batch(1).take(100):\n",
    "        yield [tf.dtypes.cast(data, tf.float32)]"
   ]
  },
  {
   "cell_type": "code",
   "execution_count": 6,
   "id": "316055bb",
   "metadata": {},
   "outputs": [
    {
     "name": "stderr",
     "output_type": "stream",
     "text": [
      "WARNING:absl:Buffer deduplication procedure will be skipped when flatbuffer library is not properly loaded\n"
     ]
    }
   ],
   "source": [
    "converter = tf.lite.TFLiteConverter.from_saved_model('Crack_Detection_CNN.model')\n",
    "converter.optimizations = [tf.lite.Optimize.DEFAULT]\n",
    "converter.representative_dataset = representative_dataset\n",
    "converter.target_spec.supported_ops = [tf.lite.OpsSet.TFLITE_BUILTINS_INT8]\n",
    "converter.inference_input_type = tf.int8  # or tf.uint8\n",
    "converter.inference_output_type = tf.int8  # or tf.uint8\n",
    "tflite_quant_model = converter.convert()"
   ]
  },
  {
   "cell_type": "code",
   "execution_count": 7,
   "id": "101cd742",
   "metadata": {
    "scrolled": true
   },
   "outputs": [
    {
     "data": {
      "text/plain": [
       "9144"
      ]
     },
     "execution_count": 7,
     "metadata": {},
     "output_type": "execute_result"
    }
   ],
   "source": [
    "len(tflite_quant_model)"
   ]
  },
  {
   "cell_type": "code",
   "execution_count": null,
   "id": "3db7c4f6",
   "metadata": {},
   "outputs": [],
   "source": [
    "model.save('tflite_quant_model.modell')"
   ]
  },
  {
   "cell_type": "code",
   "execution_count": 9,
   "id": "94a53d31",
   "metadata": {},
   "outputs": [],
   "source": [
    "model = tf.keras.models.load_model(\"tflite_quant_model.model\")"
   ]
  },
  {
   "cell_type": "code",
   "execution_count": 13,
   "id": "941feae8",
   "metadata": {},
   "outputs": [],
   "source": [
    "erly = tf.keras.callbacks.EarlyStopping(monitor='val_loss',\n",
    "                     restore_best_weights=True ,\n",
    "                     verbose=0, patience=3)"
   ]
  },
  {
   "cell_type": "code",
   "execution_count": 14,
   "id": "73e84db3",
   "metadata": {
    "scrolled": false
   },
   "outputs": [
    {
     "name": "stdout",
     "output_type": "stream",
     "text": [
      "Epoch 1/25\n",
      "32/32 [==============================] - 196s 5s/step - loss: 0.2251 - accuracy: 0.9450 - val_loss: 0.1653 - val_accuracy: 0.9438\n",
      "Epoch 2/25\n",
      "32/32 [==============================] - 135s 4s/step - loss: 0.2174 - accuracy: 0.9447 - val_loss: 0.1683 - val_accuracy: 0.9425\n",
      "Epoch 3/25\n",
      "32/32 [==============================] - 130s 4s/step - loss: 0.2179 - accuracy: 0.9448 - val_loss: 0.1657 - val_accuracy: 0.9431\n",
      "Epoch 4/25\n",
      "32/32 [==============================] - 132s 4s/step - loss: 0.2147 - accuracy: 0.9463 - val_loss: 0.1621 - val_accuracy: 0.9494\n",
      "Epoch 5/25\n",
      "32/32 [==============================] - 130s 4s/step - loss: 0.2132 - accuracy: 0.9464 - val_loss: 0.1589 - val_accuracy: 0.9506\n",
      "Epoch 6/25\n",
      "32/32 [==============================] - 129s 4s/step - loss: 0.2147 - accuracy: 0.9481 - val_loss: 0.1665 - val_accuracy: 0.9481\n",
      "Epoch 7/25\n",
      "32/32 [==============================] - 133s 4s/step - loss: 0.2096 - accuracy: 0.9488 - val_loss: 0.1506 - val_accuracy: 0.9506\n",
      "Epoch 8/25\n",
      "32/32 [==============================] - 144s 5s/step - loss: 0.2073 - accuracy: 0.9473 - val_loss: 0.1519 - val_accuracy: 0.9519\n",
      "Epoch 9/25\n",
      "32/32 [==============================] - 144s 4s/step - loss: 0.2060 - accuracy: 0.9509 - val_loss: 0.1531 - val_accuracy: 0.9456\n",
      "Epoch 10/25\n",
      "32/32 [==============================] - 138s 4s/step - loss: 0.2073 - accuracy: 0.9509 - val_loss: 0.1473 - val_accuracy: 0.9494\n",
      "Epoch 11/25\n",
      "32/32 [==============================] - 140s 4s/step - loss: 0.2038 - accuracy: 0.9495 - val_loss: 0.1513 - val_accuracy: 0.9525\n",
      "Epoch 12/25\n",
      "32/32 [==============================] - 135s 4s/step - loss: 0.2007 - accuracy: 0.9508 - val_loss: 0.1399 - val_accuracy: 0.9563\n",
      "Epoch 13/25\n",
      "32/32 [==============================] - 134s 4s/step - loss: 0.1993 - accuracy: 0.9548 - val_loss: 0.1371 - val_accuracy: 0.9519\n",
      "Epoch 14/25\n",
      "32/32 [==============================] - 136s 4s/step - loss: 0.2012 - accuracy: 0.9463 - val_loss: 0.1344 - val_accuracy: 0.9600\n",
      "Epoch 15/25\n",
      "32/32 [==============================] - 137s 4s/step - loss: 0.1976 - accuracy: 0.9548 - val_loss: 0.1408 - val_accuracy: 0.9531\n",
      "Epoch 16/25\n",
      "32/32 [==============================] - 135s 4s/step - loss: 0.1944 - accuracy: 0.9528 - val_loss: 0.1337 - val_accuracy: 0.9594\n",
      "Epoch 17/25\n",
      "32/32 [==============================] - 138s 4s/step - loss: 0.1934 - accuracy: 0.9531 - val_loss: 0.1336 - val_accuracy: 0.9531\n",
      "Epoch 18/25\n",
      "32/32 [==============================] - 136s 4s/step - loss: 0.1939 - accuracy: 0.9528 - val_loss: 0.1429 - val_accuracy: 0.9594\n",
      "Epoch 19/25\n",
      "32/32 [==============================] - 141s 4s/step - loss: 0.1907 - accuracy: 0.9553 - val_loss: 0.1309 - val_accuracy: 0.9588\n",
      "Epoch 20/25\n",
      "32/32 [==============================] - 137s 4s/step - loss: 0.1895 - accuracy: 0.9545 - val_loss: 0.1303 - val_accuracy: 0.9638\n",
      "Epoch 21/25\n",
      "32/32 [==============================] - 143s 4s/step - loss: 0.1886 - accuracy: 0.9566 - val_loss: 0.1402 - val_accuracy: 0.9619\n",
      "Epoch 22/25\n",
      "32/32 [==============================] - 138s 4s/step - loss: 0.1860 - accuracy: 0.9550 - val_loss: 0.1280 - val_accuracy: 0.9581\n",
      "Epoch 23/25\n",
      "32/32 [==============================] - 137s 4s/step - loss: 0.1897 - accuracy: 0.9536 - val_loss: 0.1207 - val_accuracy: 0.9606\n",
      "Epoch 24/25\n",
      "32/32 [==============================] - 134s 4s/step - loss: 0.1855 - accuracy: 0.9563 - val_loss: 0.1273 - val_accuracy: 0.9656\n",
      "Epoch 25/25\n",
      "32/32 [==============================] - 129s 4s/step - loss: 0.1830 - accuracy: 0.9588 - val_loss: 0.1203 - val_accuracy: 0.9600\n"
     ]
    },
    {
     "data": {
      "text/plain": [
       "<keras.callbacks.History at 0x20ac02cbdc0>"
      ]
     },
     "execution_count": 14,
     "metadata": {},
     "output_type": "execute_result"
    }
   ],
   "source": [
    "model.fit( x=X_train,\n",
    "    y=y_train,\n",
    "    batch_size=200,\n",
    "    epochs=25,\n",
    "    verbose=True,validation_data=(X_test,y_test),callbacks=[erly])"
   ]
  },
  {
   "cell_type": "code",
   "execution_count": 17,
   "id": "3aef2224",
   "metadata": {},
   "outputs": [],
   "source": [
    "loss= pd.DataFrame(model.history.history)"
   ]
  },
  {
   "cell_type": "code",
   "execution_count": 18,
   "id": "72fcb7cc",
   "metadata": {},
   "outputs": [
    {
     "data": {
      "text/plain": [
       "<AxesSubplot:>"
      ]
     },
     "execution_count": 18,
     "metadata": {},
     "output_type": "execute_result"
    },
    {
     "data": {
      "image/png": "[encoded data removed]",
      "text/plain": [
       "<Figure size 432x288 with 1 Axes>"
      ]
     },
     "metadata": {
      "needs_background": "light"
     },
     "output_type": "display_data"
    }
   ],
   "source": [
    "loss[['accuracy','val_accuracy']].plot()"
   ]
  }
 ],
 "metadata": {
  "kernelspec": {
   "display_name": "Python 3 (ipykernel)",
   "language": "python",
   "name": "python3"
  },
  "language_info": {
   "codemirror_mode": {
    "name": "ipython",
    "version": 3
   },
   "file_extension": ".py",
   "mimetype": "text/x-python",
   "name": "python",
   "nbconvert_exporter": "python",
   "pygments_lexer": "ipython3",
   "version": "3.9.7"
  }
 },
 "nbformat": 4,
 "nbformat_minor": 5
}
